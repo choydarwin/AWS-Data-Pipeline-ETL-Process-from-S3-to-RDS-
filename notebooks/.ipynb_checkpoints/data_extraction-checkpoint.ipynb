{
 "cells": [
  {
   "cell_type": "code",
   "execution_count": 24,
   "id": "73dbc725-d30a-4ba0-b002-dbd626d60777",
   "metadata": {},
   "outputs": [
    {
     "name": "stdout",
     "output_type": "stream",
     "text": [
      "data-analytics-001\n"
     ]
    }
   ],
   "source": [
    "import boto3\n",
    "\n",
    "# No need to manually specify credentials\n",
    "s3 = boto3.client(\"s3\")\n",
    "\n",
    "# List buckets to confirm access\n",
    "buckets = s3.list_buckets()\n",
    "\n",
    "# Print bucket names\n",
    "for bucket in buckets[\"Buckets\"]:\n",
    "    print(bucket[\"Name\"])\n",
    "\n"
   ]
  },
  {
   "cell_type": "code",
   "execution_count": 27,
   "id": "16e87242-62ca-4994-b754-e7e8d1aaa1d5",
   "metadata": {},
   "outputs": [
    {
     "name": "stdout",
     "output_type": "stream",
     "text": [
      "   item_id                  description  quantity_on_hand  cost purchase_date  \\\n",
      "0     1000  Bennet Farm free-range eggs                29  2.35      2/1/2022   \n",
      "1     1000  Bennet Farm free-range eggs                27   NaN           NaN   \n",
      "2     2000                  Ruby's Kale                 3   NaN           NaN   \n",
      "3     1100        Freshness White beans                13   NaN           NaN   \n",
      "4     1100        Freshness White beans                53  0.69      2/2/2022   \n",
      "\n",
      "                                              vendor  price date_sold  \\\n",
      "0          Bennet Farms, Rt. 17 Evansville, IL 55446    NaN       NaN   \n",
      "1                                                NaN   5.49  2/2/2022   \n",
      "2                                                NaN   3.99  2/2/2022   \n",
      "3                                                NaN   1.49  2/2/2022   \n",
      "4  Freshness, Inc., 202 E. Maple St., St. Joseph,...    NaN       NaN   \n",
      "\n",
      "       cust quantity_sold item_type   location          unit  \n",
      "0       NaN         Dairy       D12      dozen           NaN  \n",
      "1  198765.0             2     Dairy        D12         dozen  \n",
      "2       NaN             2   Produce        p12         bunch  \n",
      "3  202900.0             2    Canned         a2  12 ounce can  \n",
      "4       NaN        Canned        a2  12 oz can           NaN  \n"
     ]
    }
   ],
   "source": [
    "import pandas as pd\n",
    "import io\n",
    "\n",
    "try:\n",
    "    obj = s3.get_object(Bucket=bucket_name, Key=key)\n",
    "    df = pd.read_csv(io.BytesIO(obj['Body'].read()))\n",
    "\n",
    "    # Now 'df' is your Pandas DataFrame containing the data from the CSV\n",
    "    print(df.head())  # Print the first few rows to verify\n",
    "\n",
    "except Exception as e:\n",
    "    print(f\"Error: {e}\")"
   ]
  },
  {
   "cell_type": "code",
   "execution_count": 31,
   "id": "11821210-cf69-4578-ab8c-18fd0727f2d1",
   "metadata": {},
   "outputs": [
    {
     "data": {
      "text/html": [
       "<div>\n",
       "<style scoped>\n",
       "    .dataframe tbody tr th:only-of-type {\n",
       "        vertical-align: middle;\n",
       "    }\n",
       "\n",
       "    .dataframe tbody tr th {\n",
       "        vertical-align: top;\n",
       "    }\n",
       "\n",
       "    .dataframe thead th {\n",
       "        text-align: right;\n",
       "    }\n",
       "</style>\n",
       "<table border=\"1\" class=\"dataframe\">\n",
       "  <thead>\n",
       "    <tr style=\"text-align: right;\">\n",
       "      <th></th>\n",
       "      <th>item_id</th>\n",
       "      <th>description</th>\n",
       "      <th>quantity_on_hand</th>\n",
       "      <th>cost</th>\n",
       "      <th>purchase_date</th>\n",
       "      <th>vendor</th>\n",
       "      <th>price</th>\n",
       "      <th>date_sold</th>\n",
       "      <th>cust</th>\n",
       "      <th>quantity_sold</th>\n",
       "      <th>item_type</th>\n",
       "      <th>location</th>\n",
       "      <th>unit</th>\n",
       "    </tr>\n",
       "  </thead>\n",
       "  <tbody>\n",
       "    <tr>\n",
       "      <th>0</th>\n",
       "      <td>1000</td>\n",
       "      <td>Bennet Farm free-range eggs</td>\n",
       "      <td>29</td>\n",
       "      <td>2.35</td>\n",
       "      <td>2/1/2022</td>\n",
       "      <td>Bennet Farms, Rt. 17 Evansville, IL 55446</td>\n",
       "      <td>NaN</td>\n",
       "      <td>NaN</td>\n",
       "      <td>NaN</td>\n",
       "      <td>Dairy</td>\n",
       "      <td>D12</td>\n",
       "      <td>dozen</td>\n",
       "      <td>NaN</td>\n",
       "    </tr>\n",
       "    <tr>\n",
       "      <th>1</th>\n",
       "      <td>1000</td>\n",
       "      <td>Bennet Farm free-range eggs</td>\n",
       "      <td>27</td>\n",
       "      <td>NaN</td>\n",
       "      <td>NaN</td>\n",
       "      <td>NaN</td>\n",
       "      <td>5.49</td>\n",
       "      <td>2/2/2022</td>\n",
       "      <td>198765.0</td>\n",
       "      <td>2</td>\n",
       "      <td>Dairy</td>\n",
       "      <td>D12</td>\n",
       "      <td>dozen</td>\n",
       "    </tr>\n",
       "    <tr>\n",
       "      <th>2</th>\n",
       "      <td>2000</td>\n",
       "      <td>Ruby's Kale</td>\n",
       "      <td>3</td>\n",
       "      <td>NaN</td>\n",
       "      <td>NaN</td>\n",
       "      <td>NaN</td>\n",
       "      <td>3.99</td>\n",
       "      <td>2/2/2022</td>\n",
       "      <td>NaN</td>\n",
       "      <td>2</td>\n",
       "      <td>Produce</td>\n",
       "      <td>p12</td>\n",
       "      <td>bunch</td>\n",
       "    </tr>\n",
       "    <tr>\n",
       "      <th>3</th>\n",
       "      <td>1100</td>\n",
       "      <td>Freshness White beans</td>\n",
       "      <td>13</td>\n",
       "      <td>NaN</td>\n",
       "      <td>NaN</td>\n",
       "      <td>NaN</td>\n",
       "      <td>1.49</td>\n",
       "      <td>2/2/2022</td>\n",
       "      <td>202900.0</td>\n",
       "      <td>2</td>\n",
       "      <td>Canned</td>\n",
       "      <td>a2</td>\n",
       "      <td>12 ounce can</td>\n",
       "    </tr>\n",
       "    <tr>\n",
       "      <th>4</th>\n",
       "      <td>1100</td>\n",
       "      <td>Freshness White beans</td>\n",
       "      <td>53</td>\n",
       "      <td>0.69</td>\n",
       "      <td>2/2/2022</td>\n",
       "      <td>Freshness, Inc., 202 E. Maple St., St. Joseph,...</td>\n",
       "      <td>NaN</td>\n",
       "      <td>NaN</td>\n",
       "      <td>NaN</td>\n",
       "      <td>Canned</td>\n",
       "      <td>a2</td>\n",
       "      <td>12 oz can</td>\n",
       "      <td>NaN</td>\n",
       "    </tr>\n",
       "  </tbody>\n",
       "</table>\n",
       "</div>"
      ],
      "text/plain": [
       "   item_id                  description  quantity_on_hand  cost purchase_date  \\\n",
       "0     1000  Bennet Farm free-range eggs                29  2.35      2/1/2022   \n",
       "1     1000  Bennet Farm free-range eggs                27   NaN           NaN   \n",
       "2     2000                  Ruby's Kale                 3   NaN           NaN   \n",
       "3     1100        Freshness White beans                13   NaN           NaN   \n",
       "4     1100        Freshness White beans                53  0.69      2/2/2022   \n",
       "\n",
       "                                              vendor  price date_sold  \\\n",
       "0          Bennet Farms, Rt. 17 Evansville, IL 55446    NaN       NaN   \n",
       "1                                                NaN   5.49  2/2/2022   \n",
       "2                                                NaN   3.99  2/2/2022   \n",
       "3                                                NaN   1.49  2/2/2022   \n",
       "4  Freshness, Inc., 202 E. Maple St., St. Joseph,...    NaN       NaN   \n",
       "\n",
       "       cust quantity_sold item_type   location          unit  \n",
       "0       NaN         Dairy       D12      dozen           NaN  \n",
       "1  198765.0             2     Dairy        D12         dozen  \n",
       "2       NaN             2   Produce        p12         bunch  \n",
       "3  202900.0             2    Canned         a2  12 ounce can  \n",
       "4       NaN        Canned        a2  12 oz can           NaN  "
      ]
     },
     "execution_count": 31,
     "metadata": {},
     "output_type": "execute_result"
    }
   ],
   "source": [
    "df.head()"
   ]
  },
  {
   "cell_type": "code",
   "execution_count": 35,
   "id": "57468c0d-a1fb-450c-afa4-f54ef0b5c9cc",
   "metadata": {},
   "outputs": [
    {
     "name": "stdout",
     "output_type": "stream",
     "text": [
      "Stored 'df' (DataFrame)\n"
     ]
    }
   ],
   "source": [
    "%store df"
   ]
  },
  {
   "cell_type": "code",
   "execution_count": null,
   "id": "ed3b9566-f611-46df-9e8c-61e2cc33f78e",
   "metadata": {},
   "outputs": [],
   "source": []
  },
  {
   "cell_type": "code",
   "execution_count": null,
   "id": "62706cf9-e609-4453-a1eb-5db04d6811b1",
   "metadata": {},
   "outputs": [],
   "source": []
  },
  {
   "cell_type": "code",
   "execution_count": 20,
   "id": "62370d6c-9657-4ab1-adb7-5b862a8a8ab9",
   "metadata": {},
   "outputs": [
    {
     "name": "stdout",
     "output_type": "stream",
     "text": [
      "C:\\Users\\Darwin Choy\\Documents\\Portfolio projects\n",
      "C:\\Users\\Darwin Choy\\Documents\\Portfolio projects\n"
     ]
    }
   ],
   "source": [
    "import os\n",
    "print(os.getcwd())\n",
    "\n",
    "import sys\n",
    "sys.path.append(r\"C:\\Users\\Darwin Choy\\Documents\\Portfolio projects\\scripts\")\n",
    "\n",
    "# Set the working directory\n",
    "os.chdir(r\"C:\\Users\\Darwin Choy\\Documents\\Portfolio projects\")\n",
    "\n",
    "# Verify the change\n",
    "print(os.getcwd())"
   ]
  },
  {
   "cell_type": "code",
   "execution_count": 18,
   "id": "4e7122bb-4708-4cec-967f-104fc65e2853",
   "metadata": {},
   "outputs": [],
   "source": []
  },
  {
   "cell_type": "code",
   "execution_count": null,
   "id": "7bebe81f-688e-44dc-8f38-8606cf45fa9d",
   "metadata": {},
   "outputs": [],
   "source": []
  }
 ],
 "metadata": {
  "kernelspec": {
   "display_name": "Python (venv)",
   "language": "python",
   "name": "venv"
  },
  "language_info": {
   "codemirror_mode": {
    "name": "ipython",
    "version": 3
   },
   "file_extension": ".py",
   "mimetype": "text/x-python",
   "name": "python",
   "nbconvert_exporter": "python",
   "pygments_lexer": "ipython3",
   "version": "3.13.2"
  }
 },
 "nbformat": 4,
 "nbformat_minor": 5
}
