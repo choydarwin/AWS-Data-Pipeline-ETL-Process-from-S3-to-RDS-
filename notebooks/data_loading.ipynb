{
 "cells": [
  {
   "cell_type": "code",
   "execution_count": 8,
   "id": "c9915c34-c148-4ea1-9a22-7e249629d662",
   "metadata": {},
   "outputs": [
    {
     "name": "stdout",
     "output_type": "stream",
     "text": [
      "your_aws_access_key\n"
     ]
    }
   ],
   "source": [
    "\n",
    "\n",
    "from config import AWS_ACCESS_KEY, AWS_SECRET_KEY, AWS_REGION\n",
    "\n",
    "print(AWS_ACCESS_KEY)\n"
   ]
  },
  {
   "cell_type": "code",
   "execution_count": null,
   "id": "bfd55561-67ee-447e-a5fd-702077459edc",
   "metadata": {},
   "outputs": [],
   "source": []
  }
 ],
 "metadata": {
  "kernelspec": {
   "display_name": "Python (venv)",
   "language": "python",
   "name": "venv"
  },
  "language_info": {
   "codemirror_mode": {
    "name": "ipython",
    "version": 3
   },
   "file_extension": ".py",
   "mimetype": "text/x-python",
   "name": "python",
   "nbconvert_exporter": "python",
   "pygments_lexer": "ipython3",
   "version": "3.13.2"
  }
 },
 "nbformat": 4,
 "nbformat_minor": 5
}
