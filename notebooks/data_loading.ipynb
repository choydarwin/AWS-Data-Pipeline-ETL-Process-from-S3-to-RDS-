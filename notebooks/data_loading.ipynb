{
 "cells": [
  {
   "cell_type": "code",
   "execution_count": 13,
   "id": "c9915c34-c148-4ea1-9a22-7e249629d662",
   "metadata": {},
   "outputs": [
    {
     "name": "stdout",
     "output_type": "stream",
     "text": [
      "✅ Connected to AWS RDS successfully!\n",
      "Connected to database: mydb\n"
     ]
    }
   ],
   "source": [
    "import os\n",
    "import sys\n",
    "import pymysql  # MySQL connector\n",
    "\n",
    "# Ensure the 'scripts' folder is in the Python path\n",
    "sys.path.append(os.path.abspath(os.path.join(\"..\", \"scripts\")))\n",
    "\n",
    "# Import credentials securely\n",
    "try:\n",
    "    from config import RDS_HOST, RDS_USER, RDS_PASSWORD, RDS_DATABASE\n",
    "except ModuleNotFoundError:\n",
    "    raise ModuleNotFoundError(\"Could not find 'config.py'. Ensure it's in the 'scripts' folder.\")\n",
    "\n",
    "# Establish connection to AWS RDS MySQL\n",
    "try:\n",
    "    connection = pymysql.connect(\n",
    "        host=RDS_HOST,\n",
    "        user=RDS_USER,\n",
    "        password=RDS_PASSWORD,\n",
    "        database=RDS_DATABASE,\n",
    "        cursorclass=pymysql.cursors.DictCursor,\n",
    "        autocommit=True  # Ensures queries commit automatically\n",
    "    )\n",
    "    print(\"✅ Connected to AWS RDS successfully!\")\n",
    "\n",
    "    # Test query to verify connection\n",
    "    with connection.cursor() as cursor:\n",
    "        cursor.execute(\"SELECT DATABASE();\")\n",
    "        db_name = cursor.fetchone()\n",
    "        print(f\"Connected to database: {db_name['DATABASE()']}\")\n",
    "\n",
    "except pymysql.MySQLError as e:\n",
    "    print(f\"❌ MySQL Connection Error: {e}\")\n",
    "\n",
    "#finally:\n",
    " #   if 'connection' in locals() and connection.open:\n",
    "  #      connection.close()\n",
    "   #     print(\"🔌 Connection closed.\")\n",
    "\n"
   ]
  },
  {
   "cell_type": "code",
   "execution_count": 15,
   "id": "1bcb6ed9-cb84-4ca9-a798-fba3d45ced83",
   "metadata": {},
   "outputs": [
    {
     "name": "stdout",
     "output_type": "stream",
     "text": [
      "Error inserting/updating Item: name 'mycursor' is not defined. Values: (1000, 'Bennet Farm free-range eggs', 'D12', 'bunch', 'dozen', 'Bennet Farm free-range eggs', 'D12', 'bunch', 'dozen')\n"
     ]
    },
    {
     "ename": "NameError",
     "evalue": "name 'mydb' is not defined",
     "output_type": "error",
     "traceback": [
      "\u001b[1;31m---------------------------------------------------------------------------\u001b[0m",
      "\u001b[1;31mNameError\u001b[0m                                 Traceback (most recent call last)",
      "Cell \u001b[1;32mIn[15], line 18\u001b[0m\n\u001b[0;32m     17\u001b[0m \u001b[38;5;28;01mtry\u001b[39;00m:\n\u001b[1;32m---> 18\u001b[0m     \u001b[43mmycursor\u001b[49m\u001b[38;5;241m.\u001b[39mexecute(item_sql, item_values)\n\u001b[0;32m     19\u001b[0m \u001b[38;5;28;01mexcept\u001b[39;00m \u001b[38;5;167;01mException\u001b[39;00m \u001b[38;5;28;01mas\u001b[39;00m e:\n",
      "\u001b[1;31mNameError\u001b[0m: name 'mycursor' is not defined",
      "\nDuring handling of the above exception, another exception occurred:\n",
      "\u001b[1;31mNameError\u001b[0m                                 Traceback (most recent call last)",
      "Cell \u001b[1;32mIn[15], line 21\u001b[0m\n\u001b[0;32m     19\u001b[0m     \u001b[38;5;28;01mexcept\u001b[39;00m \u001b[38;5;167;01mException\u001b[39;00m \u001b[38;5;28;01mas\u001b[39;00m e:\n\u001b[0;32m     20\u001b[0m         \u001b[38;5;28mprint\u001b[39m(\u001b[38;5;124mf\u001b[39m\u001b[38;5;124m\"\u001b[39m\u001b[38;5;124mError inserting/updating Item: \u001b[39m\u001b[38;5;132;01m{\u001b[39;00me\u001b[38;5;132;01m}\u001b[39;00m\u001b[38;5;124m. Values: \u001b[39m\u001b[38;5;132;01m{\u001b[39;00mitem_values\u001b[38;5;132;01m}\u001b[39;00m\u001b[38;5;124m\"\u001b[39m)\n\u001b[1;32m---> 21\u001b[0m         \u001b[43mmydb\u001b[49m\u001b[38;5;241m.\u001b[39mrollback()\n\u001b[0;32m     22\u001b[0m         \u001b[38;5;28;01mraise\u001b[39;00m\n\u001b[0;32m     24\u001b[0m \u001b[38;5;66;03m# Inserting data into the Inventory table\u001b[39;00m\n",
      "\u001b[1;31mNameError\u001b[0m: name 'mydb' is not defined"
     ]
    }
   ],
   "source": [
    "import pandas as pd \n",
    "\n",
    "%store -r df_cleaned\n",
    "# Data Loading Notebook\n",
    " \n",
    "\n",
    "# Inserting data into the Item table\n",
    "for index, row in df_cleaned.iterrows():\n",
    "    item_type = row['item_type'] if pd.notna(row['item_type']) else 'Unknown'\n",
    "    unit = row['unit'] if pd.notna(row['unit']) else 'Unknown'\n",
    "    description = row['description'] if pd.notna(row['description']) else 'Unknown'\n",
    "    location = row['location'] if pd.notna(row['location']) else 'Unknown'\n",
    "\n",
    "    item_sql = \"INSERT INTO Item (item_id, description, item_type, unit, location) VALUES (%s, %s, %s, %s, %s) ON DUPLICATE KEY UPDATE description=%s, item_type=%s, unit=%s, location=%s\"\n",
    "    item_values = (row['item_id'], description, item_type, unit, location, description, item_type, unit, location)\n",
    "\n",
    "    try:\n",
    "        mycursor.execute(item_sql, item_values)\n",
    "    except Exception as e:\n",
    "        print(f\"Error inserting/updating Item: {e}. Values: {item_values}\")\n",
    "        mydb.rollback()\n",
    "        raise\n",
    "\n",
    "# Inserting data into the Inventory table\n",
    "for index, row in df_cleaned.iterrows():\n",
    "    inventory_sql = \"INSERT INTO Inventory (item_id, quantity_on_hand, cost, purchase_date, vendor) VALUES (%s, %s, %s, %s, %s)\"\n",
    "    inventory_values = [row[col] if not pd.isna(row[col]) else None for col in ['item_id', 'quantity_on_hand', 'cost', 'purchase_date', 'vendor']]\n",
    "\n",
    "    try:\n",
    "        mycursor.execute(inventory_sql, inventory_values)\n",
    "    except mysql.connector.IntegrityError as e:\n",
    "        if \"Duplicate entry\" not in str(e):\n",
    "            print(f\"Integrity Error inserting into Inventory: {e}. Values: {inventory_values}\")\n",
    "            mydb.rollback()\n",
    "            raise\n",
    "    except Exception as e:\n",
    "        print(f\"General Error inserting into Inventory: {e}. Values: {inventory_values}\")\n",
    "        mydb.rollback()\n",
    "        raise\n",
    "\n",
    "# Inserting data into the Sales table\n",
    "for index, row in df_cleaned.iterrows():\n",
    "    sales_sql = \"INSERT INTO Sales (item_id, price, date_sold, cust, quantity_sold) VALUES (%s, %s, %s, %s, %s)\"\n",
    "    sales_values = [row[col] if not pd.isna(row[col]) else None for col in ['item_id', 'price', 'date_sold', 'cust', 'quantity_sold']]\n",
    "\n",
    "    try:\n",
    "        mycursor.execute(sales_sql, sales_values)\n",
    "    except mysql.connector.IntegrityError as e:\n",
    "        if \"Duplicate entry\" not in str(e):\n",
    "            print(f\"Integrity Error inserting into Sales: {e}. Values: {sales_values}\")\n",
    "            mydb.rollback()\n",
    "            raise\n",
    "    except Exception as e:\n",
    "        print(f\"General Error inserting into Sales: {e}. Values: {sales_values}\")\n",
    "        mydb.rollback()\n",
    "        raise\n",
    "\n",
    "# Commit changes and close the connection\n",
    "mydb.commit()\n",
    "print(\"Data loaded successfully!\")\n",
    "\n",
    "# Close the connection\n",
    "if mydb.is_connected():\n",
    "    mycursor.close()\n",
    "    mydb.close()\n",
    "    print(\"Database connection closed.\")\n"
   ]
  },
  {
   "cell_type": "code",
   "execution_count": 6,
   "id": "c78df67d-bff1-4839-8bae-ec44a1947968",
   "metadata": {},
   "outputs": [
    {
     "name": "stdout",
     "output_type": "stream",
     "text": [
      "Collecting mysql-connector-python\n",
      "  Downloading mysql_connector_python-9.2.0-cp313-cp313-win_amd64.whl.metadata (6.2 kB)\n",
      "Downloading mysql_connector_python-9.2.0-cp313-cp313-win_amd64.whl (16.1 MB)\n",
      "   ---------------------------------------- 0.0/16.1 MB ? eta -:--:--\n",
      "   --- ------------------------------------ 1.6/16.1 MB 10.4 MB/s eta 0:00:02\n",
      "   --------- ------------------------------ 3.7/16.1 MB 9.7 MB/s eta 0:00:02\n",
      "   -------------- ------------------------- 6.0/16.1 MB 10.5 MB/s eta 0:00:01\n",
      "   --------------------- ------------------ 8.7/16.1 MB 10.8 MB/s eta 0:00:01\n",
      "   ---------------------------- ----------- 11.3/16.1 MB 11.0 MB/s eta 0:00:01\n",
      "   --------------------------------- ------ 13.6/16.1 MB 11.0 MB/s eta 0:00:01\n",
      "   ---------------------------------------  16.0/16.1 MB 11.1 MB/s eta 0:00:01\n",
      "   ---------------------------------------  16.0/16.1 MB 11.1 MB/s eta 0:00:01\n",
      "   ---------------------------------------- 16.1/16.1 MB 8.9 MB/s eta 0:00:00\n",
      "Installing collected packages: mysql-connector-python\n",
      "Successfully installed mysql-connector-python-9.2.0\n",
      "Note: you may need to restart the kernel to use updated packages.\n"
     ]
    },
    {
     "name": "stderr",
     "output_type": "stream",
     "text": [
      "\n",
      "[notice] A new release of pip is available: 24.3.1 -> 25.0.1\n",
      "[notice] To update, run: python.exe -m pip install --upgrade pip\n"
     ]
    }
   ],
   "source": [
    "pip install mysql-connector-python"
   ]
  },
  {
   "cell_type": "code",
   "execution_count": null,
   "id": "af0e4706-b3fb-4a66-8ecf-d5de5e642ebb",
   "metadata": {},
   "outputs": [],
   "source": []
  },
  {
   "cell_type": "code",
   "execution_count": null,
   "id": "dd8ec853-4b0c-4764-8de5-d9908150082a",
   "metadata": {},
   "outputs": [],
   "source": []
  },
  {
   "cell_type": "code",
   "execution_count": 3,
   "id": "488814d3-07d9-4d45-a62a-8c9b250c6899",
   "metadata": {},
   "outputs": [
    {
     "name": "stdout",
     "output_type": "stream",
     "text": [
      "C:\\Users\\Darwin Choy\\Documents\\Portfolio projects\\notebooks\n",
      "C:\\Users\\Darwin Choy\\Documents\\Portfolio projects\n"
     ]
    }
   ],
   "source": [
    "import os\n",
    "print(os.getcwd())\n",
    "\n",
    "import sys\n",
    "sys.path.append(r\"C:\\Users\\Darwin Choy\\Documents\\Portfolio projects\\scripts\")\n",
    "\n",
    "# Set the working directory\n",
    "os.chdir(r\"C:\\Users\\Darwin Choy\\Documents\\Portfolio projects\")\n",
    "\n",
    "# Verify the change\n",
    "print(os.getcwd())"
   ]
  },
  {
   "cell_type": "code",
   "execution_count": null,
   "id": "46208863-a643-4411-8258-8e528d4c473d",
   "metadata": {},
   "outputs": [],
   "source": []
  }
 ],
 "metadata": {
  "kernelspec": {
   "display_name": "Python (venv)",
   "language": "python",
   "name": "venv"
  },
  "language_info": {
   "codemirror_mode": {
    "name": "ipython",
    "version": 3
   },
   "file_extension": ".py",
   "mimetype": "text/x-python",
   "name": "python",
   "nbconvert_exporter": "python",
   "pygments_lexer": "ipython3",
   "version": "3.13.2"
  }
 },
 "nbformat": 4,
 "nbformat_minor": 5
}
