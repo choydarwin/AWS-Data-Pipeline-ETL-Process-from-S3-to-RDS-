{
 "cells": [
  {
   "cell_type": "code",
   "execution_count": null,
   "id": "dfd92679-fbbd-49ca-a7f4-2c09de8d8095",
   "metadata": {},
   "outputs": [],
   "source": []
  }
 ],
 "metadata": {
  "kernelspec": {
   "display_name": "Python (venv)",
   "language": "python",
   "name": "venv"
  },
  "language_info": {
   "codemirror_mode": {
    "name": "ipython",
    "version": 3
   },
   "file_extension": ".py",
   "mimetype": "text/x-python",
   "name": "python",
   "nbconvert_exporter": "python",
   "pygments_lexer": "ipython3",
   "version": "3.13.2"
  }
 },
 "nbformat": 4,
 "nbformat_minor": 5
}
