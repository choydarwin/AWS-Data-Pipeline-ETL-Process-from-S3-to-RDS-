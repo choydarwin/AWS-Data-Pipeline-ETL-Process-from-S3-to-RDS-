{
 "cells": [
  {
   "cell_type": "markdown",
   "id": "80e9f164-2ecb-41c7-9f45-4fe5ffabc2c7",
   "metadata": {},
   "source": [
    "# 🚀 **Data Extraction Notebook**\n",
    "\n",
    "## 🔍 Overview\n",
    "This notebook is responsible for secure and efficient extraction of raw data from an AWS S3 bucket using AWS CLI authentication and boto3. The extracted dataset is then loaded into a Pandas DataFrame for further analysis, setting the stage for data transformation and structured storage in a relational database.\n",
    "\n",
    "## 🎯 Key Objectives\n",
    "- ✅ Seamless AWS Integration: Utilize AWS CLI credentials for authentication, ensuring a robust and secure connection to S3.\n",
    "- ✅ Automated Data Retrieval: Fetch structured data from an S3 bucket, optimizing cloud-based storage solutions.\n",
    "- ✅ Data Ingestion & Validation: Load the dataset into a Pandas DataFrame, performing preliminary checks to verify data integrity.\n",
    "\n"
   ]
  },
  {
   "cell_type": "markdown",
   "id": "d75a625f-2f4a-43e0-9646-2e55f6308211",
   "metadata": {},
   "source": [
    "### 1️⃣ Connecting to AWS S3\n",
    "We use Boto3, the AWS SDK for Python, to establish a connection with S3. Authentication is handled securely through AWS CLI credentials, avoiding hardcoded keys and following best practices.\n",
    "\n",
    "#### 🔹 Steps:\n",
    "- Initialize a session using AWS CLI credentials.\n",
    "- Create an S3 client to interact with the bucket.\n",
    "- List the available objects to confirm access."
   ]
  },
  {
   "cell_type": "code",
   "execution_count": 24,
   "id": "73dbc725-d30a-4ba0-b002-dbd626d60777",
   "metadata": {},
   "outputs": [
    {
     "name": "stdout",
     "output_type": "stream",
     "text": [
      "data-analytics-001\n"
     ]
    }
   ],
   "source": [
    "import boto3\n",
    "\n",
    "# No need to manually specify credentials\n",
    "s3 = boto3.client(\"s3\")\n",
    "\n",
    "# List buckets to confirm access\n",
    "buckets = s3.list_buckets()\n",
    "\n",
    "# Print bucket names\n",
    "for bucket in buckets[\"Buckets\"]:\n",
    "    print(bucket[\"Name\"])\n",
    "\n"
   ]
  },
  {
   "cell_type": "markdown",
   "id": "ee45c603-57ea-45ef-8b86-f9aa4b0e2170",
   "metadata": {},
   "source": [
    "### 2️⃣ Extracting Data from S3\n",
    "We retrieve the CSV file from the specified S3 bucket and load it into a **Pandas DataFrame** for analysis."
   ]
  },
  {
   "cell_type": "code",
   "execution_count": 27,
   "id": "16e87242-62ca-4994-b754-e7e8d1aaa1d5",
   "metadata": {
    "collapsed": true,
    "jupyter": {
     "outputs_hidden": true
    }
   },
   "outputs": [
    {
     "name": "stdout",
     "output_type": "stream",
     "text": [
      "   item_id                  description  quantity_on_hand  cost purchase_date  \\\n",
      "0     1000  Bennet Farm free-range eggs                29  2.35      2/1/2022   \n",
      "1     1000  Bennet Farm free-range eggs                27   NaN           NaN   \n",
      "2     2000                  Ruby's Kale                 3   NaN           NaN   \n",
      "3     1100        Freshness White beans                13   NaN           NaN   \n",
      "4     1100        Freshness White beans                53  0.69      2/2/2022   \n",
      "\n",
      "                                              vendor  price date_sold  \\\n",
      "0          Bennet Farms, Rt. 17 Evansville, IL 55446    NaN       NaN   \n",
      "1                                                NaN   5.49  2/2/2022   \n",
      "2                                                NaN   3.99  2/2/2022   \n",
      "3                                                NaN   1.49  2/2/2022   \n",
      "4  Freshness, Inc., 202 E. Maple St., St. Joseph,...    NaN       NaN   \n",
      "\n",
      "       cust quantity_sold item_type   location          unit  \n",
      "0       NaN         Dairy       D12      dozen           NaN  \n",
      "1  198765.0             2     Dairy        D12         dozen  \n",
      "2       NaN             2   Produce        p12         bunch  \n",
      "3  202900.0             2    Canned         a2  12 ounce can  \n",
      "4       NaN        Canned        a2  12 oz can           NaN  \n"
     ]
    }
   ],
   "source": [
    "import pandas as pd\n",
    "import io\n",
    "\n",
    "try:\n",
    "    obj = s3.get_object(Bucket=bucket_name, Key=key)\n",
    "    df = pd.read_csv(io.BytesIO(obj['Body'].read()))\n",
    "\n",
    "    # Now 'df' is your Pandas DataFrame containing the data from the CSV\n",
    "    print(df.head())  # Print the first few rows to verify\n",
    "\n",
    "except Exception as e:\n",
    "    print(f\"Error: {e}\")"
   ]
  },
  {
   "cell_type": "code",
   "execution_count": 31,
   "id": "11821210-cf69-4578-ab8c-18fd0727f2d1",
   "metadata": {
    "collapsed": true,
    "jupyter": {
     "outputs_hidden": true
    }
   },
   "outputs": [
    {
     "data": {
      "text/html": [
       "<div>\n",
       "<style scoped>\n",
       "    .dataframe tbody tr th:only-of-type {\n",
       "        vertical-align: middle;\n",
       "    }\n",
       "\n",
       "    .dataframe tbody tr th {\n",
       "        vertical-align: top;\n",
       "    }\n",
       "\n",
       "    .dataframe thead th {\n",
       "        text-align: right;\n",
       "    }\n",
       "</style>\n",
       "<table border=\"1\" class=\"dataframe\">\n",
       "  <thead>\n",
       "    <tr style=\"text-align: right;\">\n",
       "      <th></th>\n",
       "      <th>item_id</th>\n",
       "      <th>description</th>\n",
       "      <th>quantity_on_hand</th>\n",
       "      <th>cost</th>\n",
       "      <th>purchase_date</th>\n",
       "      <th>vendor</th>\n",
       "      <th>price</th>\n",
       "      <th>date_sold</th>\n",
       "      <th>cust</th>\n",
       "      <th>quantity_sold</th>\n",
       "      <th>item_type</th>\n",
       "      <th>location</th>\n",
       "      <th>unit</th>\n",
       "    </tr>\n",
       "  </thead>\n",
       "  <tbody>\n",
       "    <tr>\n",
       "      <th>0</th>\n",
       "      <td>1000</td>\n",
       "      <td>Bennet Farm free-range eggs</td>\n",
       "      <td>29</td>\n",
       "      <td>2.35</td>\n",
       "      <td>2/1/2022</td>\n",
       "      <td>Bennet Farms, Rt. 17 Evansville, IL 55446</td>\n",
       "      <td>NaN</td>\n",
       "      <td>NaN</td>\n",
       "      <td>NaN</td>\n",
       "      <td>Dairy</td>\n",
       "      <td>D12</td>\n",
       "      <td>dozen</td>\n",
       "      <td>NaN</td>\n",
       "    </tr>\n",
       "    <tr>\n",
       "      <th>1</th>\n",
       "      <td>1000</td>\n",
       "      <td>Bennet Farm free-range eggs</td>\n",
       "      <td>27</td>\n",
       "      <td>NaN</td>\n",
       "      <td>NaN</td>\n",
       "      <td>NaN</td>\n",
       "      <td>5.49</td>\n",
       "      <td>2/2/2022</td>\n",
       "      <td>198765.0</td>\n",
       "      <td>2</td>\n",
       "      <td>Dairy</td>\n",
       "      <td>D12</td>\n",
       "      <td>dozen</td>\n",
       "    </tr>\n",
       "    <tr>\n",
       "      <th>2</th>\n",
       "      <td>2000</td>\n",
       "      <td>Ruby's Kale</td>\n",
       "      <td>3</td>\n",
       "      <td>NaN</td>\n",
       "      <td>NaN</td>\n",
       "      <td>NaN</td>\n",
       "      <td>3.99</td>\n",
       "      <td>2/2/2022</td>\n",
       "      <td>NaN</td>\n",
       "      <td>2</td>\n",
       "      <td>Produce</td>\n",
       "      <td>p12</td>\n",
       "      <td>bunch</td>\n",
       "    </tr>\n",
       "    <tr>\n",
       "      <th>3</th>\n",
       "      <td>1100</td>\n",
       "      <td>Freshness White beans</td>\n",
       "      <td>13</td>\n",
       "      <td>NaN</td>\n",
       "      <td>NaN</td>\n",
       "      <td>NaN</td>\n",
       "      <td>1.49</td>\n",
       "      <td>2/2/2022</td>\n",
       "      <td>202900.0</td>\n",
       "      <td>2</td>\n",
       "      <td>Canned</td>\n",
       "      <td>a2</td>\n",
       "      <td>12 ounce can</td>\n",
       "    </tr>\n",
       "    <tr>\n",
       "      <th>4</th>\n",
       "      <td>1100</td>\n",
       "      <td>Freshness White beans</td>\n",
       "      <td>53</td>\n",
       "      <td>0.69</td>\n",
       "      <td>2/2/2022</td>\n",
       "      <td>Freshness, Inc., 202 E. Maple St., St. Joseph,...</td>\n",
       "      <td>NaN</td>\n",
       "      <td>NaN</td>\n",
       "      <td>NaN</td>\n",
       "      <td>Canned</td>\n",
       "      <td>a2</td>\n",
       "      <td>12 oz can</td>\n",
       "      <td>NaN</td>\n",
       "    </tr>\n",
       "  </tbody>\n",
       "</table>\n",
       "</div>"
      ],
      "text/plain": [
       "   item_id                  description  quantity_on_hand  cost purchase_date  \\\n",
       "0     1000  Bennet Farm free-range eggs                29  2.35      2/1/2022   \n",
       "1     1000  Bennet Farm free-range eggs                27   NaN           NaN   \n",
       "2     2000                  Ruby's Kale                 3   NaN           NaN   \n",
       "3     1100        Freshness White beans                13   NaN           NaN   \n",
       "4     1100        Freshness White beans                53  0.69      2/2/2022   \n",
       "\n",
       "                                              vendor  price date_sold  \\\n",
       "0          Bennet Farms, Rt. 17 Evansville, IL 55446    NaN       NaN   \n",
       "1                                                NaN   5.49  2/2/2022   \n",
       "2                                                NaN   3.99  2/2/2022   \n",
       "3                                                NaN   1.49  2/2/2022   \n",
       "4  Freshness, Inc., 202 E. Maple St., St. Joseph,...    NaN       NaN   \n",
       "\n",
       "       cust quantity_sold item_type   location          unit  \n",
       "0       NaN         Dairy       D12      dozen           NaN  \n",
       "1  198765.0             2     Dairy        D12         dozen  \n",
       "2       NaN             2   Produce        p12         bunch  \n",
       "3  202900.0             2    Canned         a2  12 ounce can  \n",
       "4       NaN        Canned        a2  12 oz can           NaN  "
      ]
     },
     "execution_count": 31,
     "metadata": {},
     "output_type": "execute_result"
    }
   ],
   "source": [
    "df.head()"
   ]
  },
  {
   "cell_type": "markdown",
   "id": "49078849-5a95-4095-a82b-8b892c51d805",
   "metadata": {},
   "source": [
    "\n",
    "### 3️⃣ Storing Data for Further Processing\n",
    "To pass this DataFrame to subsequent notebooks, we use the **`%store` magic command**.\n"
   ]
  },
  {
   "cell_type": "code",
   "execution_count": 35,
   "id": "57468c0d-a1fb-450c-afa4-f54ef0b5c9cc",
   "metadata": {},
   "outputs": [
    {
     "name": "stdout",
     "output_type": "stream",
     "text": [
      "Stored 'df' (DataFrame)\n"
     ]
    }
   ],
   "source": [
    "%store df"
   ]
  },
  {
   "cell_type": "markdown",
   "id": "036c76cf-f363-4983-b131-875ace79add1",
   "metadata": {},
   "source": [
    "This allows the DataFrame to be accessed in the **Data Transformation** notebook without needing to re-run this extraction.\n"
   ]
  },
  {
   "cell_type": "code",
   "execution_count": 72,
   "id": "f444e1d1-0241-44b7-8ef1-212e1d82e7e7",
   "metadata": {},
   "outputs": [],
   "source": [
    "\n",
    "# Guardar el archivo como \"raw_data.csv\"\n",
    "df.to_csv('raw_data.csv', index=False)\n"
   ]
  },
  {
   "cell_type": "markdown",
   "id": "044934e9-3fe5-4390-b5b8-75888f13ace8",
   "metadata": {},
   "source": [
    "Crate a csv file with raw_data"
   ]
  },
  {
   "cell_type": "markdown",
   "id": "920f8dcd-bdf6-4b49-bebf-df10e021a3d9",
   "metadata": {},
   "source": [
    "## Summary\n",
    "✅ Successfully connected to AWS S3.  \n",
    "✅ Retrieved the dataset from the S3 bucket.  \n",
    "✅ Loaded the data into a Pandas DataFrame.  \n",
    "✅ Stored the DataFrame for later use in data transformation.\n",
    "\n",
    "Next, proceed to the **Data Transformation** notebook, where we clean and preprocess the extracted data.\n"
   ]
  },
  {
   "cell_type": "code",
   "execution_count": null,
   "id": "c9d22d5c-5621-4d92-ae69-24c4ed5d0eed",
   "metadata": {},
   "outputs": [],
   "source": []
  }
 ],
 "metadata": {
  "kernelspec": {
   "display_name": "Python (venv)",
   "language": "python",
   "name": "venv"
  },
  "language_info": {
   "codemirror_mode": {
    "name": "ipython",
    "version": 3
   },
   "file_extension": ".py",
   "mimetype": "text/x-python",
   "name": "python",
   "nbconvert_exporter": "python",
   "pygments_lexer": "ipython3",
   "version": "3.13.2"
  }
 },
 "nbformat": 4,
 "nbformat_minor": 5
}
