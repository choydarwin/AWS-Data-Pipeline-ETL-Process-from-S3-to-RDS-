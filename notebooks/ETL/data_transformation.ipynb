{
 "cells": [
  {
   "cell_type": "markdown",
   "id": "465cab6a-1db3-4bf8-a63d-f2dbec3287ec",
   "metadata": {},
   "source": [
    "# **Data Transformation Notebook** 🛠️\n",
    "\n",
    "## 📌 Overview\n",
    "In this notebook, we focus on cleaning and preprocessing the extracted data to ensure consistency and usability for further analysis. This involves handling missing values, converting data types, and applying transformations that make the dataset ready for storage and analysis.\n",
    "\n",
    "---"
   ]
  },
  {
   "cell_type": "markdown",
   "id": "8dc19b26-4255-4ad1-86e1-9f9679035ebe",
   "metadata": {},
   "source": [
    "\n",
    "## Objectives  \n",
    "✅ Identify and clean missing or inconsistent data.  \n",
    "✅ Convert numeric and date fields to the correct data types.  \n",
    "✅ Replace invalid or empty values with appropriate defaults.  \n",
    "✅ Ensure data integrity for seamless analysis.  \n",
    "\n"
   ]
  },
  {
   "cell_type": "code",
   "execution_count": 46,
   "id": "dfd92679-fbbd-49ca-a7f4-2c09de8d8095",
   "metadata": {},
   "outputs": [],
   "source": [
    "import pandas as pd\n",
    "import numpy as np\n",
    "%store -r df \n",
    "\n",
    "# 1. Data Cleaning and Preprocessing\n",
    "for col in df.columns:\n",
    "    if df[col].dtype == object:\n",
    "        # Replacing empty strings and whitespace with NaN in object columns\n",
    "        df[col] = df[col].replace('', np.nan).replace(r'^\\s*$', np.nan, regex=True)\n",
    "\n",
    "    if col in ['price', 'quantity_sold', 'cost', 'quantity_on_hand']:\n",
    "        # Converting numeric columns to numeric types, setting errors='coerce' to handle invalid parsing by setting them to NaN\n",
    "        df[col] = pd.to_numeric(df[col], errors='coerce')\n",
    "    \n",
    "    if col == 'cust':\n",
    "        # Ensuring that the 'cust' column is of string type\n",
    "        df[col] = df[col].astype(str)\n",
    "\n",
    "    if col in ['purchase_date', 'date_sold']:\n",
    "        # Converting date columns to datetime format, with invalid entries turned to NaT (Not a Time)\n",
    "        df[col] = pd.to_datetime(df[col], errors='coerce').dt.date\n",
    "\n"
   ]
  },
  {
   "cell_type": "markdown",
   "id": "a17ad189-8155-42e8-8535-98cd424b95a7",
   "metadata": {},
   "source": [
    "## 3️⃣ Handling Missing Values\n",
    "We apply appropriate strategies to handle missing values based on column types:\n",
    "\n",
    "- Numeric columns → Fill with the median value.\n",
    "- Categorical columns → Fill with the most frequent value.\n",
    "- Date columns → Use a placeholder date or forward-fill strategy."
   ]
  },
  {
   "cell_type": "code",
   "execution_count": null,
   "id": "2f467747-9c60-4d42-8dbe-9da55d7bdb15",
   "metadata": {},
   "outputs": [],
   "source": [
    "# Handling missing values\n",
    "# 2. Fill missing values for numeric columns with the median\n",
    "df['cost'] = df['cost'].fillna(df['cost'].median())  # or df['cost'].mean()\n",
    "df['price'] = df['price'].fillna(df['price'].median())  # or df['price'].mean()\n",
    "df['quantity_sold'] = df['quantity_sold'].fillna(df['quantity_sold'].median())  # or df['quantity_sold'].mean()\n",
    "\n",
    "# 3. Fill missing 'unit' values with the most frequent value (mode)\n",
    "df['unit'] = df['unit'].fillna(df['unit'].mode()[0])  # Most frequent value for 'unit'\n",
    "\n",
    "# 4. Fill missing 'purchase_date' and 'date_sold' values with a placeholder date (or forward fill)\n",
    "df['purchase_date'] = df['purchase_date'].fillna(pd.to_datetime('2022-01-01'))\n",
    "df['date_sold'] = df['date_sold'].fillna(pd.to_datetime('2022-01-01'))\n",
    "\n",
    "# 5. Fill missing 'vendor' with 'Unknown'\n",
    "df['vendor'] = df['vendor'].fillna('Unknown')\n",
    "\n",
    "# 6. Optional: Fill missing 'cust' with a placeholder string or forward fill (if needed)\n",
    "df['cust'] = df['cust'].fillna('Unknown')\n",
    "\n",
    "\n"
   ]
  },
  {
   "cell_type": "markdown",
   "id": "2a404ee2-732c-49c2-879d-2c14da4a8a21",
   "metadata": {},
   "source": [
    "## 4️⃣ Validating the Transformations\n",
    "To confirm that our cleaning steps were effective, we check for any remaining missing values and verify data types."
   ]
  },
  {
   "cell_type": "code",
   "execution_count": 49,
   "id": "c03b0260-8046-485b-9a24-ad5e993d1057",
   "metadata": {},
   "outputs": [
    {
     "name": "stdout",
     "output_type": "stream",
     "text": [
      "item_id             0\n",
      "description         0\n",
      "quantity_on_hand    0\n",
      "cost                0\n",
      "purchase_date       0\n",
      "vendor              0\n",
      "price               0\n",
      "date_sold           0\n",
      "cust                0\n",
      "quantity_sold       0\n",
      "item_type           0\n",
      "location            0\n",
      "unit                0\n",
      "dtype: int64\n",
      "item_id             False\n",
      "description         False\n",
      "quantity_on_hand    False\n",
      "cost                False\n",
      "purchase_date       False\n",
      "vendor              False\n",
      "price               False\n",
      "date_sold           False\n",
      "cust                False\n",
      "quantity_sold       False\n",
      "item_type           False\n",
      "location            False\n",
      "unit                False\n",
      "dtype: bool\n",
      "   item_id  quantity_on_hand  cost purchase_date  \\\n",
      "0     1000                29  2.35    2022-02-01   \n",
      "1     1000                27  1.52    2022-01-01   \n",
      "2     2000                 3  1.52    2022-01-01   \n",
      "3     1100                13  1.52    2022-01-01   \n",
      "4     1100                53  0.69    2022-02-02   \n",
      "\n",
      "                                              vendor  \n",
      "0          Bennet Farms, Rt. 17 Evansville, IL 55446  \n",
      "1                                            Unknown  \n",
      "2                                            Unknown  \n",
      "3                                            Unknown  \n",
      "4  Freshness, Inc., 202 E. Maple St., St. Joseph,...  \n",
      "item_id               int64\n",
      "quantity_on_hand      int64\n",
      "cost                float64\n",
      "purchase_date        object\n",
      "vendor               object\n",
      "dtype: object\n"
     ]
    }
   ],
   "source": [
    "# Checking the transformations\n",
    "print(df.isnull().sum())  # Checking the number of missing values in each column\n",
    "print(df.isna().any())  # Checking if any column still has NaN values\n",
    "\n",
    "# Displaying a preview of specific columns to verify the results\n",
    "print(df[['item_id', 'quantity_on_hand', 'cost', 'purchase_date', 'vendor']].head())\n",
    "\n",
    "# Checking the data types of the columns to ensure they are as expected\n",
    "print(df[['item_id', 'quantity_on_hand', 'cost', 'purchase_date', 'vendor']].dtypes)\n"
   ]
  },
  {
   "cell_type": "code",
   "execution_count": 11,
   "id": "455f42ed-ddbb-4895-885f-588020506f8b",
   "metadata": {},
   "outputs": [
    {
     "data": {
      "text/html": [
       "<div>\n",
       "<style scoped>\n",
       "    .dataframe tbody tr th:only-of-type {\n",
       "        vertical-align: middle;\n",
       "    }\n",
       "\n",
       "    .dataframe tbody tr th {\n",
       "        vertical-align: top;\n",
       "    }\n",
       "\n",
       "    .dataframe thead th {\n",
       "        text-align: right;\n",
       "    }\n",
       "</style>\n",
       "<table border=\"1\" class=\"dataframe\">\n",
       "  <thead>\n",
       "    <tr style=\"text-align: right;\">\n",
       "      <th></th>\n",
       "      <th>item_id</th>\n",
       "      <th>description</th>\n",
       "      <th>quantity_on_hand</th>\n",
       "      <th>cost</th>\n",
       "      <th>purchase_date</th>\n",
       "      <th>vendor</th>\n",
       "      <th>price</th>\n",
       "      <th>date_sold</th>\n",
       "      <th>cust</th>\n",
       "      <th>quantity_sold</th>\n",
       "      <th>item_type</th>\n",
       "      <th>location</th>\n",
       "      <th>unit</th>\n",
       "    </tr>\n",
       "  </thead>\n",
       "  <tbody>\n",
       "    <tr>\n",
       "      <th>0</th>\n",
       "      <td>1000</td>\n",
       "      <td>Bennet Farm free-range eggs</td>\n",
       "      <td>29</td>\n",
       "      <td>2.35</td>\n",
       "      <td>2022-02-01</td>\n",
       "      <td>Bennet Farms, Rt. 17 Evansville, IL 55446</td>\n",
       "      <td>3.99</td>\n",
       "      <td>2022-01-01 00:00:00</td>\n",
       "      <td>nan</td>\n",
       "      <td>4.0</td>\n",
       "      <td>D12</td>\n",
       "      <td>dozen</td>\n",
       "      <td>bunch</td>\n",
       "    </tr>\n",
       "    <tr>\n",
       "      <th>1</th>\n",
       "      <td>1000</td>\n",
       "      <td>Bennet Farm free-range eggs</td>\n",
       "      <td>27</td>\n",
       "      <td>1.52</td>\n",
       "      <td>2022-01-01 00:00:00</td>\n",
       "      <td>Unknown</td>\n",
       "      <td>5.49</td>\n",
       "      <td>2022-02-02</td>\n",
       "      <td>198765.0</td>\n",
       "      <td>2.0</td>\n",
       "      <td>Dairy</td>\n",
       "      <td>D12</td>\n",
       "      <td>dozen</td>\n",
       "    </tr>\n",
       "    <tr>\n",
       "      <th>2</th>\n",
       "      <td>2000</td>\n",
       "      <td>Ruby's Kale</td>\n",
       "      <td>3</td>\n",
       "      <td>1.52</td>\n",
       "      <td>2022-01-01 00:00:00</td>\n",
       "      <td>Unknown</td>\n",
       "      <td>3.99</td>\n",
       "      <td>2022-02-02</td>\n",
       "      <td>nan</td>\n",
       "      <td>2.0</td>\n",
       "      <td>Produce</td>\n",
       "      <td>p12</td>\n",
       "      <td>bunch</td>\n",
       "    </tr>\n",
       "    <tr>\n",
       "      <th>3</th>\n",
       "      <td>1100</td>\n",
       "      <td>Freshness White beans</td>\n",
       "      <td>13</td>\n",
       "      <td>1.52</td>\n",
       "      <td>2022-01-01 00:00:00</td>\n",
       "      <td>Unknown</td>\n",
       "      <td>1.49</td>\n",
       "      <td>2022-02-02</td>\n",
       "      <td>202900.0</td>\n",
       "      <td>2.0</td>\n",
       "      <td>Canned</td>\n",
       "      <td>a2</td>\n",
       "      <td>12 ounce can</td>\n",
       "    </tr>\n",
       "    <tr>\n",
       "      <th>4</th>\n",
       "      <td>1100</td>\n",
       "      <td>Freshness White beans</td>\n",
       "      <td>53</td>\n",
       "      <td>0.69</td>\n",
       "      <td>2022-02-02</td>\n",
       "      <td>Freshness, Inc., 202 E. Maple St., St. Joseph,...</td>\n",
       "      <td>3.99</td>\n",
       "      <td>2022-01-01 00:00:00</td>\n",
       "      <td>nan</td>\n",
       "      <td>4.0</td>\n",
       "      <td>a2</td>\n",
       "      <td>12 oz can</td>\n",
       "      <td>bunch</td>\n",
       "    </tr>\n",
       "  </tbody>\n",
       "</table>\n",
       "</div>"
      ],
      "text/plain": [
       "   item_id                  description  quantity_on_hand  cost  \\\n",
       "0     1000  Bennet Farm free-range eggs                29  2.35   \n",
       "1     1000  Bennet Farm free-range eggs                27  1.52   \n",
       "2     2000                  Ruby's Kale                 3  1.52   \n",
       "3     1100        Freshness White beans                13  1.52   \n",
       "4     1100        Freshness White beans                53  0.69   \n",
       "\n",
       "         purchase_date                                             vendor  \\\n",
       "0           2022-02-01          Bennet Farms, Rt. 17 Evansville, IL 55446   \n",
       "1  2022-01-01 00:00:00                                            Unknown   \n",
       "2  2022-01-01 00:00:00                                            Unknown   \n",
       "3  2022-01-01 00:00:00                                            Unknown   \n",
       "4           2022-02-02  Freshness, Inc., 202 E. Maple St., St. Joseph,...   \n",
       "\n",
       "   price            date_sold      cust  quantity_sold item_type   location  \\\n",
       "0   3.99  2022-01-01 00:00:00       nan            4.0       D12      dozen   \n",
       "1   5.49           2022-02-02  198765.0            2.0     Dairy        D12   \n",
       "2   3.99           2022-02-02       nan            2.0   Produce        p12   \n",
       "3   1.49           2022-02-02  202900.0            2.0    Canned         a2   \n",
       "4   3.99  2022-01-01 00:00:00       nan            4.0        a2  12 oz can   \n",
       "\n",
       "           unit  \n",
       "0         bunch  \n",
       "1         dozen  \n",
       "2         bunch  \n",
       "3  12 ounce can  \n",
       "4         bunch  "
      ]
     },
     "execution_count": 11,
     "metadata": {},
     "output_type": "execute_result"
    }
   ],
   "source": [
    "df_cleaned.head()"
   ]
  },
  {
   "cell_type": "code",
   "execution_count": 24,
   "id": "3e5726ec-b6a2-499b-818f-572bfdd7f343",
   "metadata": {},
   "outputs": [
    {
     "name": "stdout",
     "output_type": "stream",
     "text": [
      "item_id               int64\n",
      "description          object\n",
      "quantity_on_hand      int64\n",
      "cost                float64\n",
      "purchase_date        object\n",
      "vendor               object\n",
      "price               float64\n",
      "date_sold            object\n",
      "cust                 object\n",
      "quantity_sold       float64\n",
      "item_type            object\n",
      "location             object\n",
      "unit                 object\n",
      "dtype: object\n"
     ]
    }
   ],
   "source": [
    "df.isnull().sum()\n",
    "print(df.dtypes)  # Confirming the correct data types"
   ]
  },
  {
   "cell_type": "markdown",
   "id": "481545a2-1dd6-4146-aa5d-3765c9705db6",
   "metadata": {},
   "source": [
    "### 📌 4. Store Transformed Data"
   ]
  },
  {
   "cell_type": "code",
   "execution_count": 65,
   "id": "a3b26f73-d3f2-4342-84ee-47bb000f31ce",
   "metadata": {},
   "outputs": [
    {
     "name": "stdout",
     "output_type": "stream",
     "text": [
      "Stored 'df_cleaned' (DataFrame)\n"
     ]
    }
   ],
   "source": [
    "# Create a copy of the cleaned DataFrame\n",
    "df_cleaned = df.copy()\n",
    "\n",
    "# Store the cleaned DataFrame for later use\n",
    "%store df_cleaned"
   ]
  },
  {
   "cell_type": "code",
   "execution_count": 69,
   "id": "5b675e63-2d77-4976-972e-cdbdc780ea2e",
   "metadata": {},
   "outputs": [],
   "source": [
    "df_cleaned.to_csv('data_cleaned.csv', index=False)"
   ]
  },
  {
   "cell_type": "markdown",
   "id": "1b910f6f-be86-47e6-86e4-c5d4789a11f8",
   "metadata": {},
   "source": [
    "CSV file is created to store data cleaned"
   ]
  },
  {
   "cell_type": "markdown",
   "id": "02325524-7e6d-4e7c-b97a-f2f16cfe6636",
   "metadata": {},
   "source": [
    "\n",
    "📌 *The cleaned dataset is now stored and ready for loading into a database in the next step.*\n"
   ]
  },
  {
   "cell_type": "markdown",
   "id": "83ef51b9-eeed-436f-86e1-488ccaa3b92b",
   "metadata": {},
   "source": [
    "## ✅ Summary\n",
    "- ✔️ Cleaned text fields and replaced empty values with NaN.\n",
    "- ✔️ Converted numeric and date columns to appropriate formats.\n",
    "- ✔️ Filled missing values based on data relevance.\n",
    "- ✔️ Verified data integrity for further analysis.\n",
    "\n",
    "    \n",
    "## Next Step: \n",
    "Proceed to the Data Loading Notebook, where we store the transformed data into a relational database for structured querying and analysis.\n",
    "\n"
   ]
  },
  {
   "cell_type": "code",
   "execution_count": null,
   "id": "8488b500-71fa-454f-b77a-1ec0c60ef574",
   "metadata": {},
   "outputs": [],
   "source": []
  }
 ],
 "metadata": {
  "kernelspec": {
   "display_name": "Python (venv)",
   "language": "python",
   "name": "venv"
  },
  "language_info": {
   "codemirror_mode": {
    "name": "ipython",
    "version": 3
   },
   "file_extension": ".py",
   "mimetype": "text/x-python",
   "name": "python",
   "nbconvert_exporter": "python",
   "pygments_lexer": "ipython3",
   "version": "3.13.2"
  }
 },
 "nbformat": 4,
 "nbformat_minor": 5
}
